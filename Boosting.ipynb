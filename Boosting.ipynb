{
 "cells": [
  {
   "cell_type": "code",
   "execution_count": 1,
   "id": "732958ec",
   "metadata": {
    "ExecuteTime": {
     "end_time": "2022-07-05T02:35:20.412324Z",
     "start_time": "2022-07-05T02:35:18.050772Z"
    }
   },
   "outputs": [],
   "source": [
    "from sklearn.ensemble import GradientBoostingClassifier\n",
    "from sklearn.model_selection import train_test_split\n",
    "from sklearn.datasets import load_iris\n",
    "import time\n",
    "\n",
    "iris = load_iris()\n",
    "\n",
    "X_train, X_test, y_train, y_test = train_test_split(iris.data, iris.target, \n",
    "                                                   test_size=0.2, random_state=110)"
   ]
  },
  {
   "cell_type": "code",
   "execution_count": 2,
   "id": "56f1b108",
   "metadata": {
    "ExecuteTime": {
     "end_time": "2022-07-05T02:35:20.761589Z",
     "start_time": "2022-07-05T02:35:20.419267Z"
    }
   },
   "outputs": [
    {
     "name": "stdout",
     "output_type": "stream",
     "text": [
      "GBM 정확도: 0.9666666666666667\n",
      "GBM 수행 시간: 0.3 초\n"
     ]
    }
   ],
   "source": [
    "from sklearn.metrics import accuracy_score\n",
    "\n",
    "start_time = time.time()\n",
    "\n",
    "gb_clf = GradientBoostingClassifier(random_state=0)\n",
    "gb_clf.fit(X_train, y_train)\n",
    "gb_pred = gb_clf.predict(X_test)\n",
    "gb_accuracy = accuracy_score(y_test, gb_pred)\n",
    "\n",
    "end_time = time.time()\n",
    "\n",
    "print(f'GBM 정확도: {gb_accuracy}')\n",
    "print('GBM 수행 시간: {0:.1f} 초'.format(end_time - start_time))"
   ]
  },
  {
   "cell_type": "code",
   "execution_count": 3,
   "id": "069629a6",
   "metadata": {
    "ExecuteTime": {
     "end_time": "2022-07-05T02:35:26.481426Z",
     "start_time": "2022-07-05T02:35:20.765433Z"
    }
   },
   "outputs": [
    {
     "name": "stdout",
     "output_type": "stream",
     "text": [
      "Fitting 2 folds for each of 4 candidates, totalling 8 fits\n",
      "최적 하이퍼 파라미터:\n",
      " {'learning_rate': 0.05, 'n_estimators': 100}\n",
      "최고 예측 정확도: 0.95\n"
     ]
    }
   ],
   "source": [
    "from sklearn.model_selection import GridSearchCV\n",
    "\n",
    "params = {\n",
    "    'n_estimators':[100, 500],\n",
    "    'learning_rate':[0.05, 0.1]\n",
    "}\n",
    "grid_cv = GridSearchCV(gb_clf, param_grid=params, cv=2, verbose=1)\n",
    "grid_cv.fit(X_train, y_train)\n",
    "print('최적 하이퍼 파라미터:\\n', grid_cv.best_params_)\n",
    "print(f'최고 예측 정확도: {grid_cv.best_score_}')"
   ]
  },
  {
   "cell_type": "code",
   "execution_count": 4,
   "id": "f52b0da1",
   "metadata": {
    "ExecuteTime": {
     "end_time": "2022-07-05T02:35:26.513340Z",
     "start_time": "2022-07-05T02:35:26.486415Z"
    }
   },
   "outputs": [
    {
     "name": "stdout",
     "output_type": "stream",
     "text": [
      "GBM 정확도: 0.9666666666666667\n"
     ]
    }
   ],
   "source": [
    "# GridSearchCV를 이용하여 최적으로 학습된 estimator로 predict 수행\n",
    "gb_pred = grid_cv.best_estimator_.predict(X_test)\n",
    "gb_accuracy = accuracy_score(y_test, gb_pred)\n",
    "print(f'GBM 정확도: {gb_accuracy}')"
   ]
  },
  {
   "cell_type": "code",
   "execution_count": 5,
   "id": "e38c3f44",
   "metadata": {
    "ExecuteTime": {
     "end_time": "2022-07-05T02:35:29.292104Z",
     "start_time": "2022-07-05T02:35:26.522317Z"
    }
   },
   "outputs": [
    {
     "name": "stdout",
     "output_type": "stream",
     "text": [
      "Requirement already satisfied: xgboost in c:\\users\\wndgj\\appdata\\local\\programs\\python\\python310\\lib\\site-packages (1.6.1)\n",
      "Requirement already satisfied: numpy in c:\\users\\wndgj\\appdata\\local\\programs\\python\\python310\\lib\\site-packages (from xgboost) (1.22.4)\n",
      "Requirement already satisfied: scipy in c:\\users\\wndgj\\appdata\\local\\programs\\python\\python310\\lib\\site-packages (from xgboost) (1.8.1)\n",
      "Note: you may need to restart the kernel to use updated packages.\n"
     ]
    },
    {
     "name": "stderr",
     "output_type": "stream",
     "text": [
      "WARNING: You are using pip version 21.2.4; however, version 22.1.2 is available.\n",
      "You should consider upgrading via the 'C:\\Users\\wndgj\\AppData\\Local\\Programs\\Python\\Python310\\python.exe -m pip install --upgrade pip' command.\n"
     ]
    }
   ],
   "source": [
    "pip install xgboost"
   ]
  },
  {
   "cell_type": "code",
   "execution_count": 6,
   "id": "0e03e75f",
   "metadata": {
    "ExecuteTime": {
     "end_time": "2022-07-05T02:35:30.472656Z",
     "start_time": "2022-07-05T02:35:29.299085Z"
    }
   },
   "outputs": [],
   "source": [
    "from sklearn.ensemble import GradientBoostingClassifier\n",
    "from sklearn.model_selection import train_test_split\n",
    "from sklearn.datasets import load_iris\n",
    "import time\n",
    "import xgboost\n",
    "from xgboost import XGBClassifier\n",
    "\n",
    "iris = load_iris()\n",
    "\n",
    "X_train, X_test, y_train, y_test = train_test_split(iris.data, iris.target, \n",
    "                                                   test_size=0.2, random_state=110)"
   ]
  },
  {
   "cell_type": "code",
   "execution_count": 7,
   "id": "e771e443",
   "metadata": {
    "ExecuteTime": {
     "end_time": "2022-07-05T02:35:30.740444Z",
     "start_time": "2022-07-05T02:35:30.483622Z"
    }
   },
   "outputs": [
    {
     "name": "stdout",
     "output_type": "stream",
     "text": [
      "XGB 정확도: 0.9666666666666667\n",
      "XGB 수행 시간: 0.2 초\n"
     ]
    }
   ],
   "source": [
    "from sklearn.metrics import accuracy_score\n",
    "\n",
    "start_time = time.time()\n",
    "\n",
    "xgb_clf = XGBClassifier(random_state=0)\n",
    "xgb_clf.fit(X_train, y_train)\n",
    "xgb_pred = xgb_clf.predict(X_test)\n",
    "xgb_accuracy = accuracy_score(y_test, xgb_pred)\n",
    "\n",
    "end_time = time.time()\n",
    "\n",
    "print(f'XGB 정확도: {xgb_accuracy}')\n",
    "print('XGB 수행 시간: {0:.1f} 초'.format(end_time - start_time))"
   ]
  },
  {
   "cell_type": "code",
   "execution_count": 8,
   "id": "96a912c8",
   "metadata": {
    "ExecuteTime": {
     "end_time": "2022-07-05T02:35:34.923256Z",
     "start_time": "2022-07-05T02:35:30.746428Z"
    }
   },
   "outputs": [
    {
     "name": "stdout",
     "output_type": "stream",
     "text": [
      "Fitting 2 folds for each of 4 candidates, totalling 8 fits\n",
      "최적 하이퍼 파라미터:\n",
      " {'learning_rate': 0.05, 'n_estimators': 100}\n",
      "최고 예측 정확도: 0.9583333333333333\n"
     ]
    }
   ],
   "source": [
    "from sklearn.model_selection import GridSearchCV\n",
    "\n",
    "params = {\n",
    "    'n_estimators':[100, 500],\n",
    "    'learning_rate':[0.05, 0.1]\n",
    "}\n",
    "grid_cv = GridSearchCV(xgb_clf, param_grid=params, cv=2, verbose=1)\n",
    "grid_cv.fit(X_train, y_train)\n",
    "print('최적 하이퍼 파라미터:\\n', grid_cv.best_params_)\n",
    "print(f'최고 예측 정확도: {grid_cv.best_score_}')"
   ]
  },
  {
   "cell_type": "code",
   "execution_count": 9,
   "id": "fa165a13",
   "metadata": {
    "ExecuteTime": {
     "end_time": "2022-07-05T02:35:34.953255Z",
     "start_time": "2022-07-05T02:35:34.927243Z"
    }
   },
   "outputs": [
    {
     "name": "stdout",
     "output_type": "stream",
     "text": [
      "XGB 정확도: 0.9666666666666667\n"
     ]
    }
   ],
   "source": [
    "# GridSearchCV를 이용하여 최적으로 학습된 estimator로 predict 수행\n",
    "xgb_pred = grid_cv.best_estimator_.predict(X_test)\n",
    "xgb_accuracy = accuracy_score(y_test, xgb_pred)\n",
    "print(f'XGB 정확도: {xgb_accuracy}')"
   ]
  },
  {
   "cell_type": "code",
   "execution_count": null,
   "id": "97439064",
   "metadata": {},
   "outputs": [],
   "source": []
  }
 ],
 "metadata": {
  "kernelspec": {
   "display_name": "Python 3 (ipykernel)",
   "language": "python",
   "name": "python3"
  },
  "language_info": {
   "codemirror_mode": {
    "name": "ipython",
    "version": 3
   },
   "file_extension": ".py",
   "mimetype": "text/x-python",
   "name": "python",
   "nbconvert_exporter": "python",
   "pygments_lexer": "ipython3",
   "version": "3.10.1"
  },
  "toc": {
   "base_numbering": 1,
   "nav_menu": {},
   "number_sections": true,
   "sideBar": true,
   "skip_h1_title": false,
   "title_cell": "Table of Contents",
   "title_sidebar": "Contents",
   "toc_cell": false,
   "toc_position": {},
   "toc_section_display": true,
   "toc_window_display": false
  }
 },
 "nbformat": 4,
 "nbformat_minor": 5
}
