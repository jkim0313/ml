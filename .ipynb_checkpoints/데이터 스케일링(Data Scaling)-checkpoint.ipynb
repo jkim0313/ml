{
 "cells": [
  {
   "cell_type": "markdown",
   "id": "ca4d01bb",
   "metadata": {},
   "source": [
    "### standard, min-max, robust 비교 고찰"
   ]
  },
  {
   "cell_type": "code",
   "execution_count": 4,
   "id": "dad454dc",
   "metadata": {
    "ExecuteTime": {
     "end_time": "2022-07-01T05:46:34.744983Z",
     "start_time": "2022-07-01T05:46:34.710077Z"
    }
   },
   "outputs": [
    {
     "data": {
      "text/plain": [
       "<function RandomState.normal>"
      ]
     },
     "execution_count": 4,
     "metadata": {},
     "output_type": "execute_result"
    }
   ],
   "source": [
    "import pandas as pd\n",
    "import numpy as np\n",
    "from sklearn.preprocessing import StandardScaler, MinMaxScaler, RobustScaler\n",
    "\n",
    "import matplotlib.pyplot as plt\n",
    "import seaborn as sns\n",
    "%matplotlib inline\n",
    "\n",
    "# data\n",
    "x = pd.DataFrame({\n",
    "    # Distribution with lower outliers\n",
    "    'x1': np.concatenate([np.random.normal(20, 2, 1000), np.random.normal(1, 2, 25)]),\n",
    "    # Distribution with higher outliers\n",
    "    'x2': np.concatenate([np.random.normal(30, 2, 1000), np.random.normal(50, 2, 25)]),\n",
    "})\n",
    "np.random.normal"
   ]
  },
  {
   "cell_type": "code",
   "execution_count": 12,
   "id": "e29ab1f5",
   "metadata": {
    "ExecuteTime": {
     "end_time": "2022-07-01T05:56:21.819382Z",
     "start_time": "2022-07-01T05:56:21.794251Z"
    }
   },
   "outputs": [],
   "source": [
    "scaler = MinMaxScaler()\n",
    "minmax_df = scaler.fit_transform(x)\n",
    "minmax_df = pd.DataFrame(minmax_df, columns=['x1', 'x2'])"
   ]
  },
  {
   "cell_type": "code",
   "execution_count": 14,
   "id": "748a8600",
   "metadata": {
    "ExecuteTime": {
     "end_time": "2022-07-01T05:56:25.674074Z",
     "start_time": "2022-07-01T05:56:25.644155Z"
    }
   },
   "outputs": [],
   "source": [
    "scaler = RobustScaler()\n",
    "robust_df = scaler.fit_transform(x)\n",
    "robust_df = pd.DataFrame(robust_df, columns=['x1', 'x2'])"
   ]
  },
  {
   "cell_type": "code",
   "execution_count": 16,
   "id": "5f4557e5",
   "metadata": {
    "ExecuteTime": {
     "end_time": "2022-07-01T05:58:14.370849Z",
     "start_time": "2022-07-01T05:58:14.335942Z"
    }
   },
   "outputs": [
    {
     "data": {
      "text/html": [
       "<div>\n",
       "<style scoped>\n",
       "    .dataframe tbody tr th:only-of-type {\n",
       "        vertical-align: middle;\n",
       "    }\n",
       "\n",
       "    .dataframe tbody tr th {\n",
       "        vertical-align: top;\n",
       "    }\n",
       "\n",
       "    .dataframe thead th {\n",
       "        text-align: right;\n",
       "    }\n",
       "</style>\n",
       "<table border=\"1\" class=\"dataframe\">\n",
       "  <thead>\n",
       "    <tr style=\"text-align: right;\">\n",
       "      <th></th>\n",
       "      <th>x1</th>\n",
       "      <th>x2</th>\n",
       "    </tr>\n",
       "  </thead>\n",
       "  <tbody>\n",
       "    <tr>\n",
       "      <th>0</th>\n",
       "      <td>0.509302</td>\n",
       "      <td>-0.514393</td>\n",
       "    </tr>\n",
       "    <tr>\n",
       "      <th>1</th>\n",
       "      <td>0.527548</td>\n",
       "      <td>-0.155890</td>\n",
       "    </tr>\n",
       "    <tr>\n",
       "      <th>2</th>\n",
       "      <td>-0.059202</td>\n",
       "      <td>-0.283715</td>\n",
       "    </tr>\n",
       "    <tr>\n",
       "      <th>3</th>\n",
       "      <td>-0.570725</td>\n",
       "      <td>0.465810</td>\n",
       "    </tr>\n",
       "    <tr>\n",
       "      <th>4</th>\n",
       "      <td>1.269537</td>\n",
       "      <td>0.374571</td>\n",
       "    </tr>\n",
       "    <tr>\n",
       "      <th>...</th>\n",
       "      <td>...</td>\n",
       "      <td>...</td>\n",
       "    </tr>\n",
       "    <tr>\n",
       "      <th>1020</th>\n",
       "      <td>-5.475791</td>\n",
       "      <td>5.876139</td>\n",
       "    </tr>\n",
       "    <tr>\n",
       "      <th>1021</th>\n",
       "      <td>-5.216908</td>\n",
       "      <td>5.170519</td>\n",
       "    </tr>\n",
       "    <tr>\n",
       "      <th>1022</th>\n",
       "      <td>-4.245779</td>\n",
       "      <td>5.116673</td>\n",
       "    </tr>\n",
       "    <tr>\n",
       "      <th>1023</th>\n",
       "      <td>-5.617648</td>\n",
       "      <td>5.214910</td>\n",
       "    </tr>\n",
       "    <tr>\n",
       "      <th>1024</th>\n",
       "      <td>-6.423003</td>\n",
       "      <td>5.543350</td>\n",
       "    </tr>\n",
       "  </tbody>\n",
       "</table>\n",
       "<p>1025 rows × 2 columns</p>\n",
       "</div>"
      ],
      "text/plain": [
       "            x1        x2\n",
       "0     0.509302 -0.514393\n",
       "1     0.527548 -0.155890\n",
       "2    -0.059202 -0.283715\n",
       "3    -0.570725  0.465810\n",
       "4     1.269537  0.374571\n",
       "...        ...       ...\n",
       "1020 -5.475791  5.876139\n",
       "1021 -5.216908  5.170519\n",
       "1022 -4.245779  5.116673\n",
       "1023 -5.617648  5.214910\n",
       "1024 -6.423003  5.543350\n",
       "\n",
       "[1025 rows x 2 columns]"
      ]
     },
     "execution_count": 16,
     "metadata": {},
     "output_type": "execute_result"
    }
   ],
   "source": [
    "standard_df"
   ]
  },
  {
   "cell_type": "code",
   "execution_count": 13,
   "id": "c82f6e78",
   "metadata": {
    "ExecuteTime": {
     "end_time": "2022-07-01T05:56:23.929291Z",
     "start_time": "2022-07-01T05:56:23.899371Z"
    }
   },
   "outputs": [
    {
     "data": {
      "text/html": [
       "<div>\n",
       "<style scoped>\n",
       "    .dataframe tbody tr th:only-of-type {\n",
       "        vertical-align: middle;\n",
       "    }\n",
       "\n",
       "    .dataframe tbody tr th {\n",
       "        vertical-align: top;\n",
       "    }\n",
       "\n",
       "    .dataframe thead th {\n",
       "        text-align: right;\n",
       "    }\n",
       "</style>\n",
       "<table border=\"1\" class=\"dataframe\">\n",
       "  <thead>\n",
       "    <tr style=\"text-align: right;\">\n",
       "      <th></th>\n",
       "      <th>x1</th>\n",
       "      <th>x2</th>\n",
       "    </tr>\n",
       "  </thead>\n",
       "  <tbody>\n",
       "    <tr>\n",
       "      <th>0</th>\n",
       "      <td>0.816216</td>\n",
       "      <td>0.142569</td>\n",
       "    </tr>\n",
       "    <tr>\n",
       "      <th>1</th>\n",
       "      <td>0.818272</td>\n",
       "      <td>0.189206</td>\n",
       "    </tr>\n",
       "    <tr>\n",
       "      <th>2</th>\n",
       "      <td>0.752165</td>\n",
       "      <td>0.172577</td>\n",
       "    </tr>\n",
       "    <tr>\n",
       "      <th>3</th>\n",
       "      <td>0.694534</td>\n",
       "      <td>0.270080</td>\n",
       "    </tr>\n",
       "    <tr>\n",
       "      <th>4</th>\n",
       "      <td>0.901869</td>\n",
       "      <td>0.258211</td>\n",
       "    </tr>\n",
       "    <tr>\n",
       "      <th>...</th>\n",
       "      <td>...</td>\n",
       "      <td>...</td>\n",
       "    </tr>\n",
       "    <tr>\n",
       "      <th>1020</th>\n",
       "      <td>0.141902</td>\n",
       "      <td>0.973890</td>\n",
       "    </tr>\n",
       "    <tr>\n",
       "      <th>1021</th>\n",
       "      <td>0.171069</td>\n",
       "      <td>0.882098</td>\n",
       "    </tr>\n",
       "    <tr>\n",
       "      <th>1022</th>\n",
       "      <td>0.280482</td>\n",
       "      <td>0.875094</td>\n",
       "    </tr>\n",
       "    <tr>\n",
       "      <th>1023</th>\n",
       "      <td>0.125919</td>\n",
       "      <td>0.887873</td>\n",
       "    </tr>\n",
       "    <tr>\n",
       "      <th>1024</th>\n",
       "      <td>0.035184</td>\n",
       "      <td>0.930598</td>\n",
       "    </tr>\n",
       "  </tbody>\n",
       "</table>\n",
       "<p>1025 rows × 2 columns</p>\n",
       "</div>"
      ],
      "text/plain": [
       "            x1        x2\n",
       "0     0.816216  0.142569\n",
       "1     0.818272  0.189206\n",
       "2     0.752165  0.172577\n",
       "3     0.694534  0.270080\n",
       "4     0.901869  0.258211\n",
       "...        ...       ...\n",
       "1020  0.141902  0.973890\n",
       "1021  0.171069  0.882098\n",
       "1022  0.280482  0.875094\n",
       "1023  0.125919  0.887873\n",
       "1024  0.035184  0.930598\n",
       "\n",
       "[1025 rows x 2 columns]"
      ]
     },
     "execution_count": 13,
     "metadata": {},
     "output_type": "execute_result"
    }
   ],
   "source": [
    "minmax_df"
   ]
  },
  {
   "cell_type": "code",
   "execution_count": 15,
   "id": "655c0d74",
   "metadata": {
    "ExecuteTime": {
     "end_time": "2022-07-01T05:56:51.052138Z",
     "start_time": "2022-07-01T05:56:51.029201Z"
    }
   },
   "outputs": [
    {
     "data": {
      "text/html": [
       "<div>\n",
       "<style scoped>\n",
       "    .dataframe tbody tr th:only-of-type {\n",
       "        vertical-align: middle;\n",
       "    }\n",
       "\n",
       "    .dataframe tbody tr th {\n",
       "        vertical-align: top;\n",
       "    }\n",
       "\n",
       "    .dataframe thead th {\n",
       "        text-align: right;\n",
       "    }\n",
       "</style>\n",
       "<table border=\"1\" class=\"dataframe\">\n",
       "  <thead>\n",
       "    <tr style=\"text-align: right;\">\n",
       "      <th></th>\n",
       "      <th>x1</th>\n",
       "      <th>x2</th>\n",
       "    </tr>\n",
       "  </thead>\n",
       "  <tbody>\n",
       "    <tr>\n",
       "      <th>0</th>\n",
       "      <td>0.523951</td>\n",
       "      <td>-0.499775</td>\n",
       "    </tr>\n",
       "    <tr>\n",
       "      <th>1</th>\n",
       "      <td>0.548544</td>\n",
       "      <td>-0.008925</td>\n",
       "    </tr>\n",
       "    <tr>\n",
       "      <th>2</th>\n",
       "      <td>-0.242291</td>\n",
       "      <td>-0.183938</td>\n",
       "    </tr>\n",
       "    <tr>\n",
       "      <th>3</th>\n",
       "      <td>-0.931734</td>\n",
       "      <td>0.842288</td>\n",
       "    </tr>\n",
       "    <tr>\n",
       "      <th>4</th>\n",
       "      <td>1.548615</td>\n",
       "      <td>0.717366</td>\n",
       "    </tr>\n",
       "    <tr>\n",
       "      <th>...</th>\n",
       "      <td>...</td>\n",
       "      <td>...</td>\n",
       "    </tr>\n",
       "    <tr>\n",
       "      <th>1020</th>\n",
       "      <td>-7.542900</td>\n",
       "      <td>8.249939</td>\n",
       "    </tr>\n",
       "    <tr>\n",
       "      <th>1021</th>\n",
       "      <td>-7.193972</td>\n",
       "      <td>7.283827</td>\n",
       "    </tr>\n",
       "    <tr>\n",
       "      <th>1022</th>\n",
       "      <td>-5.885061</td>\n",
       "      <td>7.210102</td>\n",
       "    </tr>\n",
       "    <tr>\n",
       "      <th>1023</th>\n",
       "      <td>-7.734099</td>\n",
       "      <td>7.344605</td>\n",
       "    </tr>\n",
       "    <tr>\n",
       "      <th>1024</th>\n",
       "      <td>-8.819575</td>\n",
       "      <td>7.794294</td>\n",
       "    </tr>\n",
       "  </tbody>\n",
       "</table>\n",
       "<p>1025 rows × 2 columns</p>\n",
       "</div>"
      ],
      "text/plain": [
       "            x1        x2\n",
       "0     0.523951 -0.499775\n",
       "1     0.548544 -0.008925\n",
       "2    -0.242291 -0.183938\n",
       "3    -0.931734  0.842288\n",
       "4     1.548615  0.717366\n",
       "...        ...       ...\n",
       "1020 -7.542900  8.249939\n",
       "1021 -7.193972  7.283827\n",
       "1022 -5.885061  7.210102\n",
       "1023 -7.734099  7.344605\n",
       "1024 -8.819575  7.794294\n",
       "\n",
       "[1025 rows x 2 columns]"
      ]
     },
     "execution_count": 15,
     "metadata": {},
     "output_type": "execute_result"
    }
   ],
   "source": [
    "robust_df"
   ]
  },
  {
   "cell_type": "code",
   "execution_count": 29,
   "id": "16b0a066",
   "metadata": {
    "ExecuteTime": {
     "end_time": "2022-07-01T06:11:33.093134Z",
     "start_time": "2022-07-01T06:11:32.132597Z"
    }
   },
   "outputs": [
    {
     "data": {
      "image/png": "[encoded data removed]",
      "text/plain": [
       "<Figure size 1440x360 with 4 Axes>"
      ]
     },
     "metadata": {
      "needs_background": "light"
     },
     "output_type": "display_data"
    }
   ],
   "source": [
    "fig, (ax1, ax2, ax3, ax4) = plt.subplots(ncols=4, figsize=(20,5))\n",
    "ax1.set_title(\"Before Scaling\")\n",
    "sns.kdeplot(x['x1'], ax = ax1, color='red')\n",
    "sns.kdeplot(x['x2'], ax = ax1, color='blue')\n",
    "\n",
    "ax2.set_title(\"Standard Scaling\")\n",
    "sns.kdeplot(standard_df['x1'], ax = ax2, color='red')\n",
    "sns.kdeplot(standard_df['x2'], ax = ax2, color='blue')\n",
    "\n",
    "ax3.set_title(\"MinMax Scaling\")\n",
    "sns.kdeplot(minmax_df['x1'], ax = ax3, color='red')\n",
    "sns.kdeplot(minmax_df['x2'], ax = ax3, color='blue')\n",
    "\n",
    "ax4.set_title(\"Robust Scaling\")\n",
    "sns.kdeplot(robust_df['x1'], ax = ax4, color='red')\n",
    "sns.kdeplot(robust_df['x2'], ax = ax4, color='blue')\n",
    "\n",
    "plt.show()"
   ]
  },
  {
   "cell_type": "code",
   "execution_count": 48,
   "id": "aeea6ad6",
   "metadata": {
    "ExecuteTime": {
     "end_time": "2022-07-01T07:03:05.139968Z",
     "start_time": "2022-07-01T07:03:04.736006Z"
    }
   },
   "outputs": [
    {
     "name": "stdout",
     "output_type": "stream",
     "text": [
      "feature들의 평균 값\n",
      "sepal length (cm)    5.843333\n",
      "sepal width (cm)     3.057333\n",
      "petal length (cm)    3.758000\n",
      "petal width (cm)     1.199333\n",
      "dtype: float64\n",
      "\n",
      "feature 들의 분산 값\n",
      "sepal length (cm)    0.685694\n",
      "sepal width (cm)     0.189979\n",
      "petal length (cm)    3.116278\n",
      "petal width (cm)     0.581006\n",
      "dtype: float64\n"
     ]
    },
    {
     "data": {
      "text/plain": [
       "<AxesSubplot:title={'center':'Before Scaling'}, xlabel='x1', ylabel='Density'>"
      ]
     },
     "execution_count": 48,
     "metadata": {},
     "output_type": "execute_result"
    },
    {
     "data": {
      "image/png": "[encoded data removed]",
      "text/plain": [
       "<Figure size 432x288 with 1 Axes>"
      ]
     },
     "metadata": {
      "needs_background": "light"
     },
     "output_type": "display_data"
    }
   ],
   "source": [
    "from sklearn.datasets import load_iris\n",
    "import pandas as pd\n",
    "\n",
    "# 붓꽃 데이터 셋을 로딩하고 DataFrame으로 변환\n",
    "iris = load_iris()\n",
    "iris_data = iris.data\n",
    "iris_df = pd.DataFrame(data=iris_data, columns=iris.feature_names)\n",
    "\n",
    "print('feature들의 평균 값')\n",
    "print(iris_df.mean())\n",
    "print('\\nfeature 들의 분산 값')\n",
    "print(iris_df.var())\n",
    "\n",
    "fig = plt.plot(figsize=(20,5))\n",
    "plt.title('Before Scaling')\n",
    "sns.kdeplot(x['x1'], color='red')\n",
    "sns.kdeplot(x['x2'], color='blue')"
   ]
  },
  {
   "cell_type": "code",
   "execution_count": 47,
   "id": "f8ef34f6",
   "metadata": {
    "ExecuteTime": {
     "end_time": "2022-07-01T07:02:37.480927Z",
     "start_time": "2022-07-01T07:02:37.079999Z"
    }
   },
   "outputs": [
    {
     "name": "stdout",
     "output_type": "stream",
     "text": [
      "feature들의 평균 값\n",
      "sepal length (cm)   -1.690315e-15\n",
      "sepal width (cm)    -1.842970e-15\n",
      "petal length (cm)   -1.698641e-15\n",
      "petal width (cm)    -1.409243e-15\n",
      "dtype: float64\n",
      "\n",
      "feature 들의 qnstks 값\n",
      "sepal length (cm)    1.006711\n",
      "sepal width (cm)     1.006711\n",
      "petal length (cm)    1.006711\n",
      "petal width (cm)     1.006711\n",
      "dtype: float64\n"
     ]
    },
    {
     "data": {
      "text/plain": [
       "<AxesSubplot:title={'center':'StandardScaler'}, xlabel='x1', ylabel='Density'>"
      ]
     },
     "execution_count": 47,
     "metadata": {},
     "output_type": "execute_result"
    },
    {
     "data": {
      "image/png": "[encoded data removed]",
      "text/plain": [
       "<Figure size 432x288 with 1 Axes>"
      ]
     },
     "metadata": {
      "needs_background": "light"
     },
     "output_type": "display_data"
    }
   ],
   "source": [
    "from sklearn.datasets import load_iris\n",
    "from sklearn.preprocessing import StandardScaler\n",
    "import pandas as pd\n",
    "\n",
    "# StandardScaler 객체 생성\n",
    "scaler = StandardScaler()\n",
    "\n",
    "# StandardScaler로 데이터 셋 변환, fit()과 transform() 호출\n",
    "scaler.fit(iris_df)\n",
    "iris_scaled = scaler.transform(iris_df)\n",
    "\n",
    "# transform()시 scale 변환된 데이터 셋이 numpy ndarray로 반환되어 \n",
    "# 이를 DataFrame으로 변환\n",
    "\n",
    "iris_df_scaled = pd.DataFrame(data=iris_scaled, columns=iris.feature_names)\n",
    "\n",
    "print('feature들의 평균 값')\n",
    "print(iris_df_scaled.mean())\n",
    "print('\\nfeature 들의 qnstks 값')\n",
    "print(iris_df_scaled.var())\n",
    "\n",
    "fig = plt.plot(figsize=(20,5))\n",
    "plt.title('StandardScaler')\n",
    "sns.kdeplot(standard_df['x1'], color='red')\n",
    "sns.kdeplot(standard_df['x2'], color='blue')"
   ]
  },
  {
   "cell_type": "code",
   "execution_count": null,
   "id": "a50f63fe",
   "metadata": {
    "ExecuteTime": {
     "start_time": "2022-07-01T07:18:08.625Z"
    }
   },
   "outputs": [],
   "source": [
    "from sklearn.datasets import load_iris\n",
    "from sklearn.preprocessing import MinMaxScaler\n",
    "import pandas as pd\n",
    "\n",
    "# MinMaxScaler 객체 생성\n",
    "scaler = MinMaxScaler()\n",
    "\n",
    "# MinMaxScaler로 데이터 셋 변환, fit()과 transform() 호출\n",
    "scaler.fit(iris_df)\n",
    "iris_scaled = scaler.transform(iris_df)\n",
    "\n",
    "# transform()시 scale 변환된 데이터 셋이 numpy ndarray로 반환되어 \n",
    "# 이를 DataFrame으로 변환\n",
    "\n",
    "iris_df_scaled = pd.DataFrame(data=iris_scaled, columns=iris.feature_names)\n",
    "\n",
    "print('feature들의 최소 값')\n",
    "print(iris_df_scaled.min())\n",
    "print('\\nfeature 들의 최대 값')\n",
    "print(iris_df_scaled.max())\n",
    "\n",
    "fig = plt.plot(figsize=(20,5))\n",
    "plt.title('MinMaxScaler')\n",
    "sns.kdeplot(minmax_df['x1'], color='red')\n",
    "sns.kdeplot(minmax_df['x2'], color='blue')"
   ]
  },
  {
   "cell_type": "code",
   "execution_count": null,
   "id": "faaaf771",
   "metadata": {
    "ExecuteTime": {
     "start_time": "2022-07-01T07:16:31.073Z"
    }
   },
   "outputs": [],
   "source": [
    "from sklearn.datasets import load_iris\n",
    "from sklearn.preprocessing import RobustScaler\n",
    "import pandas as pd\n",
    "import numpy as np\n",
    "\n",
    "# RobustScaler 객체 생성\n",
    "scaler = RobustScaler()\n",
    "\n",
    "# RobustScaler로 데이터 셋 변환, fit()과 transform() 호출\n",
    "scaler.fit(iris_df)\n",
    "iris_scaled = scaler.transform(iris_df)\n",
    "\n",
    "# transform()시 scale 변환된 데이터 셋이 numpy ndarray로 반환되어 \n",
    "# 이를 DataFrame으로 변환\n",
    "\n",
    "iris_df_scaled = pd.DataFrame(data=iris_scaled, columns=iris.feature_names)\n",
    "\n",
    "q3, q1 = np.percentile(iris_df_scaled, [72, 25])\n",
    "iqr = q3 - q1\n",
    "\n",
    "print('feature들의 중간 값')\n",
    "print(iris_df_scaled.median())\n",
    "print('\\nfeature 들의 사분위 값')\n",
    "print(iqr)\n",
    "\n",
    "fig = plt.plot(figsize=(20,5))\n",
    "plt.title('RobustScaler')\n",
    "sns.kdeplot(robust_df['x1'], color='red')\n",
    "sns.kdeplot(robust_df['x2'], color='blue')"
   ]
  },
  {
   "cell_type": "code",
   "execution_count": null,
   "id": "8a35a400",
   "metadata": {},
   "outputs": [],
   "source": []
  }
 ],
 "metadata": {
  "kernelspec": {
   "display_name": "Python 3 (ipykernel)",
   "language": "python",
   "name": "python3"
  },
  "language_info": {
   "codemirror_mode": {
    "name": "ipython",
    "version": 3
   },
   "file_extension": ".py",
   "mimetype": "text/x-python",
   "name": "python",
   "nbconvert_exporter": "python",
   "pygments_lexer": "ipython3",
   "version": "3.10.1"
  },
  "toc": {
   "base_numbering": 1,
   "nav_menu": {},
   "number_sections": true,
   "sideBar": true,
   "skip_h1_title": false,
   "title_cell": "Table of Contents",
   "title_sidebar": "Contents",
   "toc_cell": false,
   "toc_position": {},
   "toc_section_display": true,
   "toc_window_display": false
  }
 },
 "nbformat": 4,
 "nbformat_minor": 5
}
