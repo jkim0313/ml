{
 "cells": [
  {
   "cell_type": "markdown",
   "id": "ca4d01bb",
   "metadata": {},
   "source": [
    "### standard, min-max, robust 비교 고찰"
   ]
  },
  {
   "cell_type": "code",
   "execution_count": 1,
   "id": "dad454dc",
   "metadata": {
    "ExecuteTime": {
     "end_time": "2022-07-01T07:19:08.610474Z",
     "start_time": "2022-07-01T07:19:04.089755Z"
    }
   },
   "outputs": [
    {
     "data": {
      "text/plain": [
       "<function RandomState.normal>"
      ]
     },
     "execution_count": 1,
     "metadata": {},
     "output_type": "execute_result"
    }
   ],
   "source": [
    "import pandas as pd\n",
    "import numpy as np\n",
    "from sklearn.preprocessing import StandardScaler, MinMaxScaler, RobustScaler\n",
    "\n",
    "import matplotlib.pyplot as plt\n",
    "import seaborn as sns\n",
    "\n",
    "# IPython 에서 제공하는 Rich output 에 대한 표현 방식\n",
    "# 도표와 같은 그림, 소리, 애니메이션 과 같은 결과물들을 Rich output 이라 합니다.\n",
    "# notebook을 실행한 브라우저에서 바로 그림을 볼 수 있게 해주는 것\n",
    "%matplotlib inline\n",
    "\n",
    "# data\n",
    "x = pd.DataFrame({\n",
    "    # Distribution with lower outliers\n",
    "    'x1': np.concatenate([np.random.normal(20, 2, 1000), np.random.normal(1, 2, 25)]),    # np.concatenate 배열 합치기\n",
    "    # Distribution with higher outliers\n",
    "    'x2': np.concatenate([np.random.normal(30, 2, 1000), np.random.normal(50, 2, 25)]),\n",
    "})\n",
    "np.random.normal"
   ]
  },
  {
   "cell_type": "code",
   "execution_count": 20,
   "id": "5f4557e5",
   "metadata": {
    "ExecuteTime": {
     "end_time": "2022-07-01T08:34:04.272853Z",
     "start_time": "2022-07-01T08:34:04.156949Z"
    }
   },
   "outputs": [],
   "source": [
    "scaler = StandardScaler()\n",
    "standard_df = scaler.fit_transform(x)\n",
    "standard_df = pd.DataFrame(standard_df, columns=['x1', 'x2'])"
   ]
  },
  {
   "cell_type": "code",
   "execution_count": 2,
   "id": "e29ab1f5",
   "metadata": {
    "ExecuteTime": {
     "end_time": "2022-07-01T07:19:09.747411Z",
     "start_time": "2022-07-01T07:19:09.726426Z"
    }
   },
   "outputs": [],
   "source": [
    "scaler = MinMaxScaler()\n",
    "minmax_df = scaler.fit_transform(x)\n",
    "minmax_df = pd.DataFrame(minmax_df, columns=['x1', 'x2'])"
   ]
  },
  {
   "cell_type": "code",
   "execution_count": 3,
   "id": "748a8600",
   "metadata": {
    "ExecuteTime": {
     "end_time": "2022-07-01T07:19:10.680675Z",
     "start_time": "2022-07-01T07:19:10.657696Z"
    }
   },
   "outputs": [],
   "source": [
    "scaler = RobustScaler()\n",
    "robust_df = scaler.fit_transform(x)\n",
    "robust_df = pd.DataFrame(robust_df, columns=['x1', 'x2'])"
   ]
  },
  {
   "cell_type": "code",
   "execution_count": 7,
   "id": "c82f6e78",
   "metadata": {
    "ExecuteTime": {
     "end_time": "2022-07-01T07:20:09.943735Z",
     "start_time": "2022-07-01T07:20:09.922392Z"
    }
   },
   "outputs": [
    {
     "data": {
      "text/html": [
       "<div>\n",
       "<style scoped>\n",
       "    .dataframe tbody tr th:only-of-type {\n",
       "        vertical-align: middle;\n",
       "    }\n",
       "\n",
       "    .dataframe tbody tr th {\n",
       "        vertical-align: top;\n",
       "    }\n",
       "\n",
       "    .dataframe thead th {\n",
       "        text-align: right;\n",
       "    }\n",
       "</style>\n",
       "<table border=\"1\" class=\"dataframe\">\n",
       "  <thead>\n",
       "    <tr style=\"text-align: right;\">\n",
       "      <th></th>\n",
       "      <th>x1</th>\n",
       "      <th>x2</th>\n",
       "    </tr>\n",
       "  </thead>\n",
       "  <tbody>\n",
       "    <tr>\n",
       "      <th>0</th>\n",
       "      <td>0.945133</td>\n",
       "      <td>0.138065</td>\n",
       "    </tr>\n",
       "    <tr>\n",
       "      <th>1</th>\n",
       "      <td>0.750521</td>\n",
       "      <td>0.209642</td>\n",
       "    </tr>\n",
       "    <tr>\n",
       "      <th>2</th>\n",
       "      <td>0.782826</td>\n",
       "      <td>0.255658</td>\n",
       "    </tr>\n",
       "    <tr>\n",
       "      <th>3</th>\n",
       "      <td>0.743922</td>\n",
       "      <td>0.135570</td>\n",
       "    </tr>\n",
       "    <tr>\n",
       "      <th>4</th>\n",
       "      <td>0.707728</td>\n",
       "      <td>0.141994</td>\n",
       "    </tr>\n",
       "    <tr>\n",
       "      <th>...</th>\n",
       "      <td>...</td>\n",
       "      <td>...</td>\n",
       "    </tr>\n",
       "    <tr>\n",
       "      <th>1020</th>\n",
       "      <td>0.071933</td>\n",
       "      <td>0.895391</td>\n",
       "    </tr>\n",
       "    <tr>\n",
       "      <th>1021</th>\n",
       "      <td>0.097187</td>\n",
       "      <td>1.000000</td>\n",
       "    </tr>\n",
       "    <tr>\n",
       "      <th>1022</th>\n",
       "      <td>0.106958</td>\n",
       "      <td>0.727716</td>\n",
       "    </tr>\n",
       "    <tr>\n",
       "      <th>1023</th>\n",
       "      <td>0.140741</td>\n",
       "      <td>0.748886</td>\n",
       "    </tr>\n",
       "    <tr>\n",
       "      <th>1024</th>\n",
       "      <td>0.212970</td>\n",
       "      <td>0.962747</td>\n",
       "    </tr>\n",
       "  </tbody>\n",
       "</table>\n",
       "<p>1025 rows × 2 columns</p>\n",
       "</div>"
      ],
      "text/plain": [
       "            x1        x2\n",
       "0     0.945133  0.138065\n",
       "1     0.750521  0.209642\n",
       "2     0.782826  0.255658\n",
       "3     0.743922  0.135570\n",
       "4     0.707728  0.141994\n",
       "...        ...       ...\n",
       "1020  0.071933  0.895391\n",
       "1021  0.097187  1.000000\n",
       "1022  0.106958  0.727716\n",
       "1023  0.140741  0.748886\n",
       "1024  0.212970  0.962747\n",
       "\n",
       "[1025 rows x 2 columns]"
      ]
     },
     "execution_count": 7,
     "metadata": {},
     "output_type": "execute_result"
    }
   ],
   "source": [
    "minmax_df"
   ]
  },
  {
   "cell_type": "code",
   "execution_count": 8,
   "id": "655c0d74",
   "metadata": {
    "ExecuteTime": {
     "end_time": "2022-07-01T07:20:10.444638Z",
     "start_time": "2022-07-01T07:20:10.425689Z"
    }
   },
   "outputs": [
    {
     "data": {
      "text/html": [
       "<div>\n",
       "<style scoped>\n",
       "    .dataframe tbody tr th:only-of-type {\n",
       "        vertical-align: middle;\n",
       "    }\n",
       "\n",
       "    .dataframe tbody tr th {\n",
       "        vertical-align: top;\n",
       "    }\n",
       "\n",
       "    .dataframe thead th {\n",
       "        text-align: right;\n",
       "    }\n",
       "</style>\n",
       "<table border=\"1\" class=\"dataframe\">\n",
       "  <thead>\n",
       "    <tr style=\"text-align: right;\">\n",
       "      <th></th>\n",
       "      <th>x1</th>\n",
       "      <th>x2</th>\n",
       "    </tr>\n",
       "  </thead>\n",
       "  <tbody>\n",
       "    <tr>\n",
       "      <th>0</th>\n",
       "      <td>1.733472</td>\n",
       "      <td>-0.703802</td>\n",
       "    </tr>\n",
       "    <tr>\n",
       "      <th>1</th>\n",
       "      <td>-0.404157</td>\n",
       "      <td>0.080531</td>\n",
       "    </tr>\n",
       "    <tr>\n",
       "      <th>2</th>\n",
       "      <td>-0.049310</td>\n",
       "      <td>0.584756</td>\n",
       "    </tr>\n",
       "    <tr>\n",
       "      <th>3</th>\n",
       "      <td>-0.476637</td>\n",
       "      <td>-0.731134</td>\n",
       "    </tr>\n",
       "    <tr>\n",
       "      <th>4</th>\n",
       "      <td>-0.874199</td>\n",
       "      <td>-0.660741</td>\n",
       "    </tr>\n",
       "    <tr>\n",
       "      <th>...</th>\n",
       "      <td>...</td>\n",
       "      <td>...</td>\n",
       "    </tr>\n",
       "    <tr>\n",
       "      <th>1020</th>\n",
       "      <td>-7.857813</td>\n",
       "      <td>7.594803</td>\n",
       "    </tr>\n",
       "    <tr>\n",
       "      <th>1021</th>\n",
       "      <td>-7.580422</td>\n",
       "      <td>8.741080</td>\n",
       "    </tr>\n",
       "    <tr>\n",
       "      <th>1022</th>\n",
       "      <td>-7.473101</td>\n",
       "      <td>5.757453</td>\n",
       "    </tr>\n",
       "    <tr>\n",
       "      <th>1023</th>\n",
       "      <td>-7.102020</td>\n",
       "      <td>5.989428</td>\n",
       "    </tr>\n",
       "    <tr>\n",
       "      <th>1024</th>\n",
       "      <td>-6.308654</td>\n",
       "      <td>8.332869</td>\n",
       "    </tr>\n",
       "  </tbody>\n",
       "</table>\n",
       "<p>1025 rows × 2 columns</p>\n",
       "</div>"
      ],
      "text/plain": [
       "            x1        x2\n",
       "0     1.733472 -0.703802\n",
       "1    -0.404157  0.080531\n",
       "2    -0.049310  0.584756\n",
       "3    -0.476637 -0.731134\n",
       "4    -0.874199 -0.660741\n",
       "...        ...       ...\n",
       "1020 -7.857813  7.594803\n",
       "1021 -7.580422  8.741080\n",
       "1022 -7.473101  5.757453\n",
       "1023 -7.102020  5.989428\n",
       "1024 -6.308654  8.332869\n",
       "\n",
       "[1025 rows x 2 columns]"
      ]
     },
     "execution_count": 8,
     "metadata": {},
     "output_type": "execute_result"
    }
   ],
   "source": [
    "robust_df"
   ]
  },
  {
   "cell_type": "code",
   "execution_count": 9,
   "id": "16b0a066",
   "metadata": {
    "ExecuteTime": {
     "end_time": "2022-07-01T07:20:12.151728Z",
     "start_time": "2022-07-01T07:20:11.113024Z"
    }
   },
   "outputs": [
    {
     "data": {
      "image/png": "[encoded data removed]",
      "text/plain": [
       "<Figure size 1440x360 with 4 Axes>"
      ]
     },
     "metadata": {
      "needs_background": "light"
     },
     "output_type": "display_data"
    }
   ],
   "source": [
    "fig, (ax1, ax2, ax3, ax4) = plt.subplots(ncols=4, figsize=(20,5))\n",
    "ax1.set_title(\"Before Scaling\")\n",
    "sns.kdeplot(x['x1'], ax = ax1, color='red')\n",
    "sns.kdeplot(x['x2'], ax = ax1, color='blue')\n",
    "\n",
    "ax2.set_title(\"Standard Scaling\")\n",
    "sns.kdeplot(standard_df['x1'], ax = ax2, color='red')\n",
    "sns.kdeplot(standard_df['x2'], ax = ax2, color='blue')\n",
    "\n",
    "ax3.set_title(\"MinMax Scaling\")\n",
    "sns.kdeplot(minmax_df['x1'], ax = ax3, color='red')\n",
    "sns.kdeplot(minmax_df['x2'], ax = ax3, color='blue')\n",
    "\n",
    "ax4.set_title(\"Robust Scaling\")\n",
    "sns.kdeplot(robust_df['x1'], ax = ax4, color='red')\n",
    "sns.kdeplot(robust_df['x2'], ax = ax4, color='blue')\n",
    "\n",
    "plt.show()"
   ]
  },
  {
   "cell_type": "code",
   "execution_count": 10,
   "id": "aeea6ad6",
   "metadata": {
    "ExecuteTime": {
     "end_time": "2022-07-01T07:20:12.696331Z",
     "start_time": "2022-07-01T07:20:12.156715Z"
    }
   },
   "outputs": [
    {
     "name": "stdout",
     "output_type": "stream",
     "text": [
      "feature들의 평균 값\n",
      "sepal length (cm)    5.843333\n",
      "sepal width (cm)     3.057333\n",
      "petal length (cm)    3.758000\n",
      "petal width (cm)     1.199333\n",
      "dtype: float64\n",
      "\n",
      "feature 들의 분산 값\n",
      "sepal length (cm)    0.685694\n",
      "sepal width (cm)     0.189979\n",
      "petal length (cm)    3.116278\n",
      "petal width (cm)     0.581006\n",
      "dtype: float64\n"
     ]
    },
    {
     "data": {
      "text/plain": [
       "<AxesSubplot:title={'center':'Before Scaling'}, xlabel='x1', ylabel='Density'>"
      ]
     },
     "execution_count": 10,
     "metadata": {},
     "output_type": "execute_result"
    },
    {
     "data": {
      "image/png": "[encoded data removed]",
      "text/plain": [
       "<Figure size 432x288 with 1 Axes>"
      ]
     },
     "metadata": {
      "needs_background": "light"
     },
     "output_type": "display_data"
    }
   ],
   "source": [
    "from sklearn.datasets import load_iris\n",
    "import pandas as pd\n",
    "\n",
    "# 붓꽃 데이터 셋을 로딩하고 DataFrame으로 변환\n",
    "iris = load_iris()\n",
    "iris_data = iris.data\n",
    "iris_df = pd.DataFrame(data=iris_data, columns=iris.feature_names)\n",
    "\n",
    "print('feature들의 평균 값')\n",
    "print(iris_df.mean())\n",
    "print('\\nfeature 들의 분산 값')\n",
    "print(iris_df.var())\n",
    "\n",
    "fig = plt.plot(figsize=(20,5))\n",
    "plt.title('Before Scaling')\n",
    "sns.kdeplot(x['x1'], color='red')\n",
    "sns.kdeplot(x['x2'], color='blue')"
   ]
  },
  {
   "cell_type": "code",
   "execution_count": 16,
   "id": "f8ef34f6",
   "metadata": {
    "ExecuteTime": {
     "end_time": "2022-07-01T07:24:36.021532Z",
     "start_time": "2022-07-01T07:24:35.641039Z"
    }
   },
   "outputs": [
    {
     "name": "stdout",
     "output_type": "stream",
     "text": [
      "feature들의 평균 값\n",
      "sepal length (cm)   -1.690315e-15\n",
      "sepal width (cm)    -1.842970e-15\n",
      "petal length (cm)   -1.698641e-15\n",
      "petal width (cm)    -1.409243e-15\n",
      "dtype: float64\n",
      "\n",
      "feature 들의 qnstks 값\n",
      "sepal length (cm)    1.006711\n",
      "sepal width (cm)     1.006711\n",
      "petal length (cm)    1.006711\n",
      "petal width (cm)     1.006711\n",
      "dtype: float64\n"
     ]
    },
    {
     "data": {
      "text/plain": [
       "<AxesSubplot:title={'center':'StandardScaler'}, xlabel='x1', ylabel='Density'>"
      ]
     },
     "execution_count": 16,
     "metadata": {},
     "output_type": "execute_result"
    },
    {
     "data": {
      "image/png": "[encoded data removed]",
      "text/plain": [
       "<Figure size 432x288 with 1 Axes>"
      ]
     },
     "metadata": {
      "needs_background": "light"
     },
     "output_type": "display_data"
    }
   ],
   "source": [
    "from sklearn.datasets import load_iris\n",
    "from sklearn.preprocessing import StandardScaler\n",
    "import pandas as pd\n",
    "\n",
    "# StandardScaler 객체 생성\n",
    "scaler = StandardScaler()\n",
    "\n",
    "# StandardScaler로 데이터 셋 변환, fit()과 transform() 호출\n",
    "scaler.fit(iris_df)\n",
    "iris_scaled = scaler.fit_transform(iris_df)\n",
    "\n",
    "# transform()시 scale 변환된 데이터 셋이 numpy ndarray로 반환되어 \n",
    "# 이를 DataFrame으로 변환\n",
    "\n",
    "iris_df_scaled = pd.DataFrame(data=iris_scaled, columns=iris.feature_names)\n",
    "\n",
    "print('feature들의 평균 값')\n",
    "print(iris_df_scaled.mean())\n",
    "print('\\nfeature 들의 qnstks 값')\n",
    "print(iris_df_scaled.var())\n",
    "\n",
    "fig = plt.plot(figsize=(20,5))\n",
    "plt.title('StandardScaler')\n",
    "sns.kdeplot(standard_df['x1'], color='red')\n",
    "sns.kdeplot(standard_df['x2'], color='blue')"
   ]
  },
  {
   "cell_type": "code",
   "execution_count": 15,
   "id": "a50f63fe",
   "metadata": {
    "ExecuteTime": {
     "end_time": "2022-07-01T07:24:29.742396Z",
     "start_time": "2022-07-01T07:24:29.270491Z"
    }
   },
   "outputs": [
    {
     "name": "stdout",
     "output_type": "stream",
     "text": [
      "feature들의 최소 값\n",
      "sepal length (cm)    0.0\n",
      "sepal width (cm)     0.0\n",
      "petal length (cm)    0.0\n",
      "petal width (cm)     0.0\n",
      "dtype: float64\n",
      "\n",
      "feature 들의 최대 값\n",
      "sepal length (cm)    1.0\n",
      "sepal width (cm)     1.0\n",
      "petal length (cm)    1.0\n",
      "petal width (cm)     1.0\n",
      "dtype: float64\n"
     ]
    },
    {
     "data": {
      "text/plain": [
       "<AxesSubplot:title={'center':'MinMaxScaler'}, xlabel='x1', ylabel='Density'>"
      ]
     },
     "execution_count": 15,
     "metadata": {},
     "output_type": "execute_result"
    },
    {
     "data": {
      "image/png": "[encoded data removed]",
      "text/plain": [
       "<Figure size 432x288 with 1 Axes>"
      ]
     },
     "metadata": {
      "needs_background": "light"
     },
     "output_type": "display_data"
    }
   ],
   "source": [
    "from sklearn.datasets import load_iris\n",
    "from sklearn.preprocessing import MinMaxScaler\n",
    "import pandas as pd\n",
    "\n",
    "# MinMaxScaler 객체 생성\n",
    "scaler = MinMaxScaler()\n",
    "\n",
    "# MinMaxScaler로 데이터 셋 변환, fit()과 transform() 호출\n",
    "scaler.fit(iris_df)\n",
    "iris_scaled = scaler.fit_transform(iris_df)\n",
    "\n",
    "# transform()시 scale 변환된 데이터 셋이 numpy ndarray로 반환되어 \n",
    "# 이를 DataFrame으로 변환\n",
    "\n",
    "iris_df_scaled = pd.DataFrame(data=iris_scaled, columns=iris.feature_names)\n",
    "\n",
    "print('feature들의 최소 값')\n",
    "print(iris_df_scaled.min())\n",
    "print('\\nfeature 들의 최대 값')\n",
    "print(iris_df_scaled.max())\n",
    "\n",
    "fig = plt.plot(figsize=(20,5))\n",
    "plt.title('MinMaxScaler')\n",
    "sns.kdeplot(minmax_df['x1'], color='red')\n",
    "sns.kdeplot(minmax_df['x2'], color='blue')"
   ]
  },
  {
   "cell_type": "code",
   "execution_count": 14,
   "id": "faaaf771",
   "metadata": {
    "ExecuteTime": {
     "end_time": "2022-07-01T07:24:22.165620Z",
     "start_time": "2022-07-01T07:24:21.792628Z"
    }
   },
   "outputs": [
    {
     "name": "stdout",
     "output_type": "stream",
     "text": [
      "feature들의 중간 값\n",
      "sepal length (cm)    0.000000e+00\n",
      "sepal width (cm)     0.000000e+00\n",
      "petal length (cm)    1.266348e-16\n",
      "petal width (cm)     0.000000e+00\n",
      "dtype: float64\n",
      "\n",
      "feature 들의 사분위 값\n",
      "0.9333333333333333\n"
     ]
    },
    {
     "data": {
      "text/plain": [
       "<AxesSubplot:title={'center':'RobustScaler'}, xlabel='x1', ylabel='Density'>"
      ]
     },
     "execution_count": 14,
     "metadata": {},
     "output_type": "execute_result"
    },
    {
     "data": {
      "image/png": "[encoded data removed]",
      "text/plain": [
       "<Figure size 432x288 with 1 Axes>"
      ]
     },
     "metadata": {
      "needs_background": "light"
     },
     "output_type": "display_data"
    }
   ],
   "source": [
    "from sklearn.datasets import load_iris\n",
    "from sklearn.preprocessing import RobustScaler\n",
    "import pandas as pd\n",
    "import numpy as np\n",
    "\n",
    "# RobustScaler 객체 생성\n",
    "scaler = RobustScaler()\n",
    "\n",
    "# RobustScaler로 데이터 셋 변환, fit()과 transform() 호출\n",
    "scaler.fit(iris_df)\n",
    "iris_scaled = scaler.fit_transform(iris_df)\n",
    "\n",
    "# transform()시 scale 변환된 데이터 셋이 numpy ndarray로 반환되어 \n",
    "# 이를 DataFrame으로 변환\n",
    "\n",
    "iris_df_scaled = pd.DataFrame(data=iris_scaled, columns=iris.feature_names)\n",
    "\n",
    "q3, q1 = np.percentile(iris_df_scaled, [72, 25])\n",
    "iqr = q3 - q1\n",
    "\n",
    "print('feature들의 중간 값')\n",
    "print(iris_df_scaled.median())\n",
    "print('\\nfeature 들의 사분위 값')\n",
    "print(iqr)\n",
    "\n",
    "fig = plt.plot(figsize=(20,5))\n",
    "plt.title('RobustScaler')\n",
    "sns.kdeplot(robust_df['x1'], color='red')\n",
    "sns.kdeplot(robust_df['x2'], color='blue')"
   ]
  },
  {
   "cell_type": "code",
   "execution_count": null,
   "id": "551cbb25",
   "metadata": {},
   "outputs": [],
   "source": []
  }
 ],
 "metadata": {
  "kernelspec": {
   "display_name": "Python 3 (ipykernel)",
   "language": "python",
   "name": "python3"
  },
  "language_info": {
   "codemirror_mode": {
    "name": "ipython",
    "version": 3
   },
   "file_extension": ".py",
   "mimetype": "text/x-python",
   "name": "python",
   "nbconvert_exporter": "python",
   "pygments_lexer": "ipython3",
   "version": "3.10.1"
  },
  "toc": {
   "base_numbering": 1,
   "nav_menu": {},
   "number_sections": true,
   "sideBar": true,
   "skip_h1_title": false,
   "title_cell": "Table of Contents",
   "title_sidebar": "Contents",
   "toc_cell": false,
   "toc_position": {},
   "toc_section_display": true,
   "toc_window_display": false
  }
 },
 "nbformat": 4,
 "nbformat_minor": 5
}
